{
 "cells": [
  {
   "cell_type": "code",
   "execution_count": 2,
   "metadata": {},
   "outputs": [
    {
     "name": "stdout",
     "output_type": "stream",
     "text": [
      "Note: you may need to restart the kernel to use updated packages.\n"
     ]
    }
   ],
   "source": [
    "%pip install vision-parse -Uqqq"
   ]
  },
  {
   "cell_type": "code",
   "execution_count": 9,
   "metadata": {},
   "outputs": [
    {
     "name": "stdout",
     "output_type": "stream",
     "text": [
      "2024-12-17 15:24:51,915 - INFO - Starting conversion of PDF with 1 pages\n"
     ]
    },
    {
     "name": "stderr",
     "output_type": "stream",
     "text": [
      "Converting pages: 100%|██████████| 1/1 [00:23<00:00, 23.45s/it]"
     ]
    },
    {
     "name": "stdout",
     "output_type": "stream",
     "text": [
      "2024-12-17 15:25:15,367 - INFO - Successfully converted 1 pages\n",
      "\n",
      "--- Page 1 ---\n",
      "**Extracted Text**\n",
      "\n",
      "TO: JR Sprague, TCAAA D1 Chairman\n",
      "FROM: Andy Holloway CEA ANR Hemphill County\n",
      "\n",
      "\n",
      "Regarding the three chairmanships appointed to me none have any action needed at this time except for rules to be submitted to posted on website for Texas Holdem Tournament. Please note following:\n",
      "\n",
      "**Texas Hold'em Basic Poker Rules**\n",
      "\n",
      "*   Straight Flush:\n",
      "    *   Any five cards of same suit and consecutive rank; best hands, AKQJT\n",
      "        single suit is known as Royal flush.\n",
      "*   Four-of-a-Kind: \n",
      "    *   4 cards with any four ranks. Same suits are allowed but not required to be in order (e.g., A2345)\n",
      "*   Full House:\n",
      "    *   Three of a kind and one pair; e.g., AA33\n",
      "*   Flush:\n",
      "    *   Any five card suit, same rank is optional.\n",
      "*   Straight: \n",
      "    *   Five cards with consecutive ranks. Same suits are allowed but not required to be in order (e.g., A2345)\n",
      "*   Three-of-a-Kind:\n",
      "    *   3 of a kind; e.g., AAA\n",
      "*   Two Pair: Any two pairs from same rank.\n",
      "*   One pair: any one card suit, with remaining three cards being different suits.\n"
     ]
    },
    {
     "name": "stderr",
     "output_type": "stream",
     "text": [
      "\n"
     ]
    }
   ],
   "source": [
    "from vision_parse import VisionParser\n",
    "\n",
    "# Initialize parser\n",
    "parser = VisionParser(\n",
    "    model_name=\"llama3.2-vision:11b\",\n",
    "    temperature=0.9,\n",
    "    top_p=0.4,\n",
    "    repeat_penalty=1.3\n",
    ")\n",
    "\n",
    "# Convert PDF to markdown\n",
    "pdf_path = \"Texas-Holdem-Rules.pdf\"\n",
    "markdown_pages = parser.convert_pdf(pdf_path)\n",
    "\n",
    "# Process results\n",
    "for i, page_content in enumerate(markdown_pages, 1):\n",
    "    print(f\"\\n--- Page {i} ---\\n{page_content}\")"
   ]
  }
 ],
 "metadata": {
  "kernelspec": {
   "display_name": "mp",
   "language": "python",
   "name": "python3"
  },
  "language_info": {
   "codemirror_mode": {
    "name": "ipython",
    "version": 3
   },
   "file_extension": ".py",
   "mimetype": "text/x-python",
   "name": "python",
   "nbconvert_exporter": "python",
   "pygments_lexer": "ipython3",
   "version": "3.13.1"
  }
 },
 "nbformat": 4,
 "nbformat_minor": 2
}
