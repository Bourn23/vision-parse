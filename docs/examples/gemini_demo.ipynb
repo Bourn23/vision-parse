{
 "cells": [
  {
   "cell_type": "markdown",
   "metadata": {},
   "source": [
    "# Using Vision Parse with Google Gemini"
   ]
  },
  {
   "cell_type": "markdown",
   "metadata": {},
   "source": [
    "This notebook demonstrates how to use Vision Parse with Google Gemini."
   ]
  },
  {
   "cell_type": "code",
   "execution_count": 1,
   "metadata": {},
   "outputs": [],
   "source": [
    "!pip install 'vision-parse[gemini]' -Uqq # install the vision-parse package with gemini"
   ]
  },
  {
   "cell_type": "code",
   "execution_count": null,
   "metadata": {},
   "outputs": [],
   "source": "from vision_parse import VisionParser\nimport os\n\n# Initialize parser\nparser = VisionParser(\n    model_name=\"gemini-2.5-flash\",\n    api_key=os.getenv(\"GEMINI_API_KEY\"),\n    temperature=0.9,\n    top_p=0.4,\n    max_output_tokens=2048,\n    image_mode=\"url\",\n    detailed_extraction=True,\n)\n\npdf_path = \"../tests/Texas-Holdem-Rules.pdf\"\nmarkdown_pages = parser.convert_pdf(pdf_path)\n\n# Print the markdown pages\nfor i, page_content in enumerate(markdown_pages):\n    print(f\"\\n--- Page {i+1} ---\\n{page_content}\")"
  }
 ],
 "metadata": {
  "kernelspec": {
   "display_name": "mp",
   "language": "python",
   "name": "python3"
  },
  "language_info": {
   "codemirror_mode": {
    "name": "ipython",
    "version": 3
   },
   "file_extension": ".py",
   "mimetype": "text/x-python",
   "name": "python",
   "nbconvert_exporter": "python",
   "pygments_lexer": "ipython3",
   "version": "3.13.1"
  }
 },
 "nbformat": 4,
 "nbformat_minor": 2
}